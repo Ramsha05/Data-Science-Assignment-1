{
 "cells": [
  {
   "cell_type": "code",
   "execution_count": 1,
   "id": "06bd3034",
   "metadata": {},
   "outputs": [
    {
     "name": "stdout",
     "output_type": "stream",
     "text": [
      "Twinkle, twinkle, little star,\n",
      " \t How I wonder what you are!\n",
      " \t \t Up above the world so high,\n",
      " \t \t Like a diamond in the sky.\n",
      " Twinkle, twinkle, little star,\n",
      " \t How I wonder what you are\n"
     ]
    }
   ],
   "source": [
    "# 1. Write a Python program to print the following string in a specific format (see the output).\n",
    "\n",
    "\n",
    "a = \"Twinkle, twinkle, little star,\";\n",
    "b = \"\\n \\t How I wonder what you are!\";\n",
    "c = \"\\n \\t \\t Up above the world so high,\";\n",
    "d = \"\\n \\t \\t Like a diamond in the sky.\";\n",
    "e = \"\\n Twinkle, twinkle, little star,\";\n",
    "f = \"\\n \\t How I wonder what you are\";\n",
    "print(a + b + c + d + e + f);"
   ]
  },
  {
   "cell_type": "code",
   "execution_count": 2,
   "id": "a3b94e88",
   "metadata": {},
   "outputs": [
    {
     "name": "stdout",
     "output_type": "stream",
     "text": [
      "3.8.8 (default, Apr 13 2021, 15:08:03) [MSC v.1916 64 bit (AMD64)]\n"
     ]
    }
   ],
   "source": [
    "# 2. Write a Python program to get the Python version you are using\n",
    "\n",
    "\n",
    "import sys\n",
    "print(sys.version);"
   ]
  },
  {
   "cell_type": "code",
   "execution_count": 8,
   "id": "c3ff260e",
   "metadata": {},
   "outputs": [
    {
     "data": {
      "text/plain": [
       "'Wed Dec 29 16:13:00 2021'"
      ]
     },
     "execution_count": 8,
     "metadata": {},
     "output_type": "execute_result"
    }
   ],
   "source": [
    "# 3. Write a Python program to display the current date and time.\n",
    "\n",
    "\n",
    "import time;\n",
    "time.ctime()"
   ]
  },
  {
   "cell_type": "code",
   "execution_count": 9,
   "id": "83ed69eb",
   "metadata": {},
   "outputs": [
    {
     "name": "stdout",
     "output_type": "stream",
     "text": [
      "Enter radius of circle : 1.1\n",
      "Area of the circle is: 3.8013271108436504\n"
     ]
    }
   ],
   "source": [
    "# 4. Write a Python program which accepts the radius of a circle from the user and compute the area.\n",
    "\n",
    "\n",
    "from math import pi\n",
    "r = float(input(\"Enter radius of circle : \"));\n",
    "print (\"Area of the circle is: \" + str(pi * r**2));"
   ]
  },
  {
   "cell_type": "code",
   "execution_count": 10,
   "id": "a2b188db",
   "metadata": {},
   "outputs": [
    {
     "name": "stdout",
     "output_type": "stream",
     "text": [
      "Enter your First Name Ramsha\n",
      "Enter your Last Name Saeed\n",
      "Saeed Ramsha\n"
     ]
    }
   ],
   "source": [
    "# 5. Write a Python program which accepts the user's first and last name and print them in reverse order with a space\n",
    "# between them.\n",
    "\n",
    "firstName = input(\"Enter your First Name \");\n",
    "lastName = input(\"Enter your Last Name \");\n",
    "print ( lastName + \" \" + firstName);"
   ]
  },
  {
   "cell_type": "code",
   "execution_count": 11,
   "id": "009f60be",
   "metadata": {},
   "outputs": [
    {
     "name": "stdout",
     "output_type": "stream",
     "text": [
      "Enter First Number: 50\n",
      "Enter Second Number: 65\n",
      "115\n"
     ]
    }
   ],
   "source": [
    "# 6. Write a python program which takes two inputs from user and print them addition\n",
    "\n",
    "x =  int(input(\"Enter First Number: \"));\n",
    "y = int(input(\"Enter Second Number: \"));\n",
    "z = x + y;\n",
    "print(z);"
   ]
  },
  {
   "cell_type": "code",
   "execution_count": null,
   "id": "3cdfdfd8",
   "metadata": {},
   "outputs": [],
   "source": []
  },
  {
   "cell_type": "code",
   "execution_count": null,
   "id": "f64802a3",
   "metadata": {},
   "outputs": [],
   "source": []
  },
  {
   "cell_type": "code",
   "execution_count": null,
   "id": "16f259d1",
   "metadata": {},
   "outputs": [],
   "source": []
  },
  {
   "cell_type": "code",
   "execution_count": null,
   "id": "2d4a696e",
   "metadata": {},
   "outputs": [],
   "source": []
  }
 ],
 "metadata": {
  "kernelspec": {
   "display_name": "Python 3",
   "language": "python",
   "name": "python3"
  },
  "language_info": {
   "codemirror_mode": {
    "name": "ipython",
    "version": 3
   },
   "file_extension": ".py",
   "mimetype": "text/x-python",
   "name": "python",
   "nbconvert_exporter": "python",
   "pygments_lexer": "ipython3",
   "version": "3.8.8"
  }
 },
 "nbformat": 4,
 "nbformat_minor": 5
}
